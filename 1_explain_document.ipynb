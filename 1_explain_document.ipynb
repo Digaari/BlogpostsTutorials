{
  "nbformat": 4,
  "nbformat_minor": 0,
  "metadata": {
    "kernelspec": {
      "display_name": "spark_nlp_2.4.4",
      "language": "python",
      "name": "spark_nlp_2.4.4"
    },
    "language_info": {
      "codemirror_mode": {
        "name": "ipython",
        "version": 3
      },
      "file_extension": ".py",
      "mimetype": "text/x-python",
      "name": "python",
      "nbconvert_exporter": "python",
      "pygments_lexer": "ipython3",
      "version": "3.7.6"
    },
    "colab": {
      "name": "1.explain_document.ipynb",
      "provenance": []
    }
  },
  "cells": [
    {
      "cell_type": "markdown",
      "metadata": {
        "id": "vgDwpgtaTc2P"
      },
      "source": [
        "## Spark NLP - Explain Document (pretained pipeline)"
      ]
    },
    {
      "cell_type": "markdown",
      "metadata": {
        "id": "CZbauEAnTc2c"
      },
      "source": [
        "### **Installation**"
      ]
    },
    {
      "cell_type": "code",
      "metadata": {
        "colab": {
          "base_uri": "https://localhost:8080/"
        },
        "id": "grjwPMKLToDR",
        "outputId": "562d9b1d-bb82-40ca-eb4a-242d8ef90f54"
      },
      "source": [
        "# This is only to setup PySpark and Spark NLP on Colab\n",
        "!wget http://setup.johnsnowlabs.com/colab.sh -O - | bash\n",
        "\n",
        "# Install Spark NLP Display for visualization\n",
        "!pip install --ignore-installed spark-nlp-display"
      ],
      "execution_count": 2,
      "outputs": [
        {
          "output_type": "stream",
          "text": [
            "--2021-04-19 04:07:04--  http://setup.johnsnowlabs.com/colab.sh\n",
            "Resolving setup.johnsnowlabs.com (setup.johnsnowlabs.com)... 51.158.130.26\n",
            "Connecting to setup.johnsnowlabs.com (setup.johnsnowlabs.com)|51.158.130.26|:80... connected.\n",
            "HTTP request sent, awaiting response... 302 Moved Temporarily\n",
            "Location: https://raw.githubusercontent.com/JohnSnowLabs/spark-nlp/master/scripts/colab_setup.sh [following]\n",
            "--2021-04-19 04:07:04--  https://raw.githubusercontent.com/JohnSnowLabs/spark-nlp/master/scripts/colab_setup.sh\n",
            "Resolving raw.githubusercontent.com (raw.githubusercontent.com)... 185.199.108.133, 185.199.109.133, 185.199.110.133, ...\n",
            "Connecting to raw.githubusercontent.com (raw.githubusercontent.com)|185.199.108.133|:443... connected.\n",
            "HTTP request sent, awaiting response... 200 OK\n",
            "Length: 1594 (1.6K) [text/plain]\n",
            "Saving to: ‘STDOUT’\n",
            "\n",
            "-                     0%[                    ]       0  --.-KB/s               setup Colab for PySpark 3.0.2 and Spark NLP 3.0.1\n",
            "-                   100%[===================>]   1.56K  --.-KB/s    in 0.001s  \n",
            "\n",
            "2021-04-19 04:07:04 (2.46 MB/s) - written to stdout [1594/1594]\n",
            "\n",
            "\u001b[K     |████████████████████████████████| 204.8MB 69kB/s \n",
            "\u001b[K     |████████████████████████████████| 153kB 51.0MB/s \n",
            "\u001b[K     |████████████████████████████████| 204kB 23.9MB/s \n",
            "\u001b[?25h  Building wheel for pyspark (setup.py) ... \u001b[?25l\u001b[?25hdone\n"
          ],
          "name": "stdout"
        }
      ]
    },
    {
      "cell_type": "markdown",
      "metadata": {
        "id": "gt-IlM58Tu6T"
      },
      "source": [
        "### **Importing required modules**"
      ]
    },
    {
      "cell_type": "code",
      "metadata": {
        "colab": {
          "base_uri": "https://localhost:8080/"
        },
        "id": "uAB9tmWyTc2d",
        "outputId": "85aeda86-8fa4-42df-e310-fa3a34fc6492"
      },
      "source": [
        "import sparknlp \n",
        "\n",
        "spark = sparknlp.start()\n",
        "\n",
        "print(\"Spark NLP version: \", sparknlp.version())\n",
        "print(\"Apache Spark version: \", spark.version)"
      ],
      "execution_count": 3,
      "outputs": [
        {
          "output_type": "stream",
          "text": [
            "Spark NLP version:  3.0.1\n",
            "Apache Spark version:  3.0.2\n"
          ],
          "name": "stdout"
        }
      ]
    },
    {
      "cell_type": "markdown",
      "metadata": {
        "id": "8GeG-gv8Tc2g"
      },
      "source": [
        "### Now, we load a pipeline model that contains the following annotators as a default: \n",
        "\n",
        "- Tokenizer\n",
        "- Deep Sentence Detector\n",
        "- Lemmatizer\n",
        "- Stemmer\n",
        "- Part of Speech (POS)\n",
        "- Context Spell Checker (NorvigSweetingModel)\n",
        "- Word Embeddings (glove)\n",
        "- NER-DL (trained by SOTA algorithm)\n"
      ]
    },
    {
      "cell_type": "code",
      "metadata": {
        "colab": {
          "base_uri": "https://localhost:8080/"
        },
        "id": "kmFOYgSFTc2i",
        "outputId": "d500ac31-d1e8-400d-b3ca-9505749cc7bc"
      },
      "source": [
        "from sparknlp.pretrained import PretrainedPipeline\n",
        "from sparknlp.base import *\n",
        "\n",
        "pipeline = PretrainedPipeline('explain_document_dl')"
      ],
      "execution_count": 4,
      "outputs": [
        {
          "output_type": "stream",
          "text": [
            "explain_document_dl download started this may take some time.\n",
            "Approx size to download 169.3 MB\n",
            "[OK!]\n"
          ],
          "name": "stdout"
        }
      ]
    },
    {
      "cell_type": "markdown",
      "metadata": {
        "id": "YWWE0PaHTc2j"
      },
      "source": [
        "We simply send the text we want to transform and the pipeline does the work."
      ]
    },
    {
      "cell_type": "code",
      "metadata": {
        "id": "D8FQ3BybTc2k"
      },
      "source": [
        "text = 'John Smith would love to visit many beautful cities and take a pictre. He lives in Germany for the last 12 years.'\n",
        "result = pipeline.annotate(text)"
      ],
      "execution_count": 5,
      "outputs": []
    },
    {
      "cell_type": "markdown",
      "metadata": {
        "id": "MqDQRMnCTc2k"
      },
      "source": [
        "We can see the output of each annotator below. This one is doing so many things at once!"
      ]
    },
    {
      "cell_type": "code",
      "metadata": {
        "colab": {
          "base_uri": "https://localhost:8080/"
        },
        "id": "d9zPDIYhTc2l",
        "outputId": "06394db4-4963-41ac-d8dc-5f70659bdcf0"
      },
      "source": [
        "result.keys()"
      ],
      "execution_count": 6,
      "outputs": [
        {
          "output_type": "execute_result",
          "data": {
            "text/plain": [
              "dict_keys(['entities', 'stem', 'checked', 'lemma', 'document', 'pos', 'token', 'ner', 'embeddings', 'sentence'])"
            ]
          },
          "metadata": {
            "tags": []
          },
          "execution_count": 6
        }
      ]
    },
    {
      "cell_type": "code",
      "metadata": {
        "colab": {
          "base_uri": "https://localhost:8080/"
        },
        "id": "lRTVku9yTc2m",
        "outputId": "1e00bd30-31e6-4c4a-bdd2-7b3c298c8361"
      },
      "source": [
        "result['entities']"
      ],
      "execution_count": 7,
      "outputs": [
        {
          "output_type": "execute_result",
          "data": {
            "text/plain": [
              "['John Smith', 'Germany']"
            ]
          },
          "metadata": {
            "tags": []
          },
          "execution_count": 7
        }
      ]
    },
    {
      "cell_type": "code",
      "metadata": {
        "colab": {
          "base_uri": "https://localhost:8080/"
        },
        "id": "3AqVoIhXTc2n",
        "outputId": "654c5225-ec6a-4a5a-e04b-daf1d6f37202"
      },
      "source": [
        "result['sentence']"
      ],
      "execution_count": 8,
      "outputs": [
        {
          "output_type": "execute_result",
          "data": {
            "text/plain": [
              "['John Smith would love to visit many beautful cities and take a pictre.',\n",
              " 'He lives in Germany for the last 12 years.']"
            ]
          },
          "metadata": {
            "tags": []
          },
          "execution_count": 8
        }
      ]
    },
    {
      "cell_type": "code",
      "metadata": {
        "colab": {
          "base_uri": "https://localhost:8080/"
        },
        "id": "WGd0Rs0XTc2q",
        "outputId": "eeb32e0c-155a-44ca-b762-b16b03ab8228"
      },
      "source": [
        "list(zip(result['token'],result['stem'],result['lemma'],result['pos'],result['checked'],result['ner']))"
      ],
      "execution_count": 9,
      "outputs": [
        {
          "output_type": "execute_result",
          "data": {
            "text/plain": [
              "[('John', 'john', 'John', 'NNP', 'John', 'B-PER'),\n",
              " ('Smith', 'smith', 'Smith', 'NNP', 'Smith', 'I-PER'),\n",
              " ('would', 'would', 'would', 'MD', 'would', 'O'),\n",
              " ('love', 'love', 'love', 'VB', 'love', 'O'),\n",
              " ('to', 'to', 'to', 'TO', 'to', 'O'),\n",
              " ('visit', 'visit', 'visit', 'VB', 'visit', 'O'),\n",
              " ('many', 'mani', 'many', 'JJ', 'many', 'O'),\n",
              " ('beautful', 'beauti', 'beautiful', 'JJ', 'beautiful', 'O'),\n",
              " ('cities', 'citi', 'city', 'NNS', 'cities', 'O'),\n",
              " ('and', 'and', 'and', 'CC', 'and', 'O'),\n",
              " ('take', 'take', 'take', 'VB', 'take', 'O'),\n",
              " ('a', 'a', 'a', 'DT', 'a', 'O'),\n",
              " ('pictre', 'pictur', 'picture', 'NN', 'picture', 'O'),\n",
              " ('.', '.', '.', '.', '.', 'O'),\n",
              " ('He', 'he', 'He', 'PRP', 'He', 'O'),\n",
              " ('lives', 'live', 'life', 'VBZ', 'lives', 'O'),\n",
              " ('in', 'in', 'in', 'IN', 'in', 'O'),\n",
              " ('Germany', 'germani', 'Germany', 'NNP', 'Germany', 'B-LOC'),\n",
              " ('for', 'for', 'for', 'IN', 'for', 'O'),\n",
              " ('the', 'the', 'the', 'DT', 'the', 'O'),\n",
              " ('last', 'last', 'last', 'JJ', 'last', 'O'),\n",
              " ('12', '12', '12', 'CD', '12', 'O'),\n",
              " ('years', 'year', 'year', 'NNS', 'years', 'O'),\n",
              " ('.', '.', '.', '.', '.', 'O')]"
            ]
          },
          "metadata": {
            "tags": []
          },
          "execution_count": 9
        }
      ]
    },
    {
      "cell_type": "code",
      "metadata": {
        "colab": {
          "base_uri": "https://localhost:8080/",
          "height": 802
        },
        "id": "sytzXFRzTc2q",
        "outputId": "679ddd19-9001-4afd-e196-ebcc74b77ec7"
      },
      "source": [
        "import pandas as pd\n",
        "\n",
        "df = pd.DataFrame(list(zip(result['token'],result['stem'],result['lemma'],result['pos'],result['checked'],result['ner'])),\n",
        "            columns = ['token','stem', 'lemma', 'pos', 'spell_checked', 'ner'])\n",
        "\n",
        "df"
      ],
      "execution_count": 10,
      "outputs": [
        {
          "output_type": "execute_result",
          "data": {
            "text/html": [
              "<div>\n",
              "<style scoped>\n",
              "    .dataframe tbody tr th:only-of-type {\n",
              "        vertical-align: middle;\n",
              "    }\n",
              "\n",
              "    .dataframe tbody tr th {\n",
              "        vertical-align: top;\n",
              "    }\n",
              "\n",
              "    .dataframe thead th {\n",
              "        text-align: right;\n",
              "    }\n",
              "</style>\n",
              "<table border=\"1\" class=\"dataframe\">\n",
              "  <thead>\n",
              "    <tr style=\"text-align: right;\">\n",
              "      <th></th>\n",
              "      <th>token</th>\n",
              "      <th>stem</th>\n",
              "      <th>lemma</th>\n",
              "      <th>pos</th>\n",
              "      <th>spell_checked</th>\n",
              "      <th>ner</th>\n",
              "    </tr>\n",
              "  </thead>\n",
              "  <tbody>\n",
              "    <tr>\n",
              "      <th>0</th>\n",
              "      <td>John</td>\n",
              "      <td>john</td>\n",
              "      <td>John</td>\n",
              "      <td>NNP</td>\n",
              "      <td>John</td>\n",
              "      <td>B-PER</td>\n",
              "    </tr>\n",
              "    <tr>\n",
              "      <th>1</th>\n",
              "      <td>Smith</td>\n",
              "      <td>smith</td>\n",
              "      <td>Smith</td>\n",
              "      <td>NNP</td>\n",
              "      <td>Smith</td>\n",
              "      <td>I-PER</td>\n",
              "    </tr>\n",
              "    <tr>\n",
              "      <th>2</th>\n",
              "      <td>would</td>\n",
              "      <td>would</td>\n",
              "      <td>would</td>\n",
              "      <td>MD</td>\n",
              "      <td>would</td>\n",
              "      <td>O</td>\n",
              "    </tr>\n",
              "    <tr>\n",
              "      <th>3</th>\n",
              "      <td>love</td>\n",
              "      <td>love</td>\n",
              "      <td>love</td>\n",
              "      <td>VB</td>\n",
              "      <td>love</td>\n",
              "      <td>O</td>\n",
              "    </tr>\n",
              "    <tr>\n",
              "      <th>4</th>\n",
              "      <td>to</td>\n",
              "      <td>to</td>\n",
              "      <td>to</td>\n",
              "      <td>TO</td>\n",
              "      <td>to</td>\n",
              "      <td>O</td>\n",
              "    </tr>\n",
              "    <tr>\n",
              "      <th>5</th>\n",
              "      <td>visit</td>\n",
              "      <td>visit</td>\n",
              "      <td>visit</td>\n",
              "      <td>VB</td>\n",
              "      <td>visit</td>\n",
              "      <td>O</td>\n",
              "    </tr>\n",
              "    <tr>\n",
              "      <th>6</th>\n",
              "      <td>many</td>\n",
              "      <td>mani</td>\n",
              "      <td>many</td>\n",
              "      <td>JJ</td>\n",
              "      <td>many</td>\n",
              "      <td>O</td>\n",
              "    </tr>\n",
              "    <tr>\n",
              "      <th>7</th>\n",
              "      <td>beautful</td>\n",
              "      <td>beauti</td>\n",
              "      <td>beautiful</td>\n",
              "      <td>JJ</td>\n",
              "      <td>beautiful</td>\n",
              "      <td>O</td>\n",
              "    </tr>\n",
              "    <tr>\n",
              "      <th>8</th>\n",
              "      <td>cities</td>\n",
              "      <td>citi</td>\n",
              "      <td>city</td>\n",
              "      <td>NNS</td>\n",
              "      <td>cities</td>\n",
              "      <td>O</td>\n",
              "    </tr>\n",
              "    <tr>\n",
              "      <th>9</th>\n",
              "      <td>and</td>\n",
              "      <td>and</td>\n",
              "      <td>and</td>\n",
              "      <td>CC</td>\n",
              "      <td>and</td>\n",
              "      <td>O</td>\n",
              "    </tr>\n",
              "    <tr>\n",
              "      <th>10</th>\n",
              "      <td>take</td>\n",
              "      <td>take</td>\n",
              "      <td>take</td>\n",
              "      <td>VB</td>\n",
              "      <td>take</td>\n",
              "      <td>O</td>\n",
              "    </tr>\n",
              "    <tr>\n",
              "      <th>11</th>\n",
              "      <td>a</td>\n",
              "      <td>a</td>\n",
              "      <td>a</td>\n",
              "      <td>DT</td>\n",
              "      <td>a</td>\n",
              "      <td>O</td>\n",
              "    </tr>\n",
              "    <tr>\n",
              "      <th>12</th>\n",
              "      <td>pictre</td>\n",
              "      <td>pictur</td>\n",
              "      <td>picture</td>\n",
              "      <td>NN</td>\n",
              "      <td>picture</td>\n",
              "      <td>O</td>\n",
              "    </tr>\n",
              "    <tr>\n",
              "      <th>13</th>\n",
              "      <td>.</td>\n",
              "      <td>.</td>\n",
              "      <td>.</td>\n",
              "      <td>.</td>\n",
              "      <td>.</td>\n",
              "      <td>O</td>\n",
              "    </tr>\n",
              "    <tr>\n",
              "      <th>14</th>\n",
              "      <td>He</td>\n",
              "      <td>he</td>\n",
              "      <td>He</td>\n",
              "      <td>PRP</td>\n",
              "      <td>He</td>\n",
              "      <td>O</td>\n",
              "    </tr>\n",
              "    <tr>\n",
              "      <th>15</th>\n",
              "      <td>lives</td>\n",
              "      <td>live</td>\n",
              "      <td>life</td>\n",
              "      <td>VBZ</td>\n",
              "      <td>lives</td>\n",
              "      <td>O</td>\n",
              "    </tr>\n",
              "    <tr>\n",
              "      <th>16</th>\n",
              "      <td>in</td>\n",
              "      <td>in</td>\n",
              "      <td>in</td>\n",
              "      <td>IN</td>\n",
              "      <td>in</td>\n",
              "      <td>O</td>\n",
              "    </tr>\n",
              "    <tr>\n",
              "      <th>17</th>\n",
              "      <td>Germany</td>\n",
              "      <td>germani</td>\n",
              "      <td>Germany</td>\n",
              "      <td>NNP</td>\n",
              "      <td>Germany</td>\n",
              "      <td>B-LOC</td>\n",
              "    </tr>\n",
              "    <tr>\n",
              "      <th>18</th>\n",
              "      <td>for</td>\n",
              "      <td>for</td>\n",
              "      <td>for</td>\n",
              "      <td>IN</td>\n",
              "      <td>for</td>\n",
              "      <td>O</td>\n",
              "    </tr>\n",
              "    <tr>\n",
              "      <th>19</th>\n",
              "      <td>the</td>\n",
              "      <td>the</td>\n",
              "      <td>the</td>\n",
              "      <td>DT</td>\n",
              "      <td>the</td>\n",
              "      <td>O</td>\n",
              "    </tr>\n",
              "    <tr>\n",
              "      <th>20</th>\n",
              "      <td>last</td>\n",
              "      <td>last</td>\n",
              "      <td>last</td>\n",
              "      <td>JJ</td>\n",
              "      <td>last</td>\n",
              "      <td>O</td>\n",
              "    </tr>\n",
              "    <tr>\n",
              "      <th>21</th>\n",
              "      <td>12</td>\n",
              "      <td>12</td>\n",
              "      <td>12</td>\n",
              "      <td>CD</td>\n",
              "      <td>12</td>\n",
              "      <td>O</td>\n",
              "    </tr>\n",
              "    <tr>\n",
              "      <th>22</th>\n",
              "      <td>years</td>\n",
              "      <td>year</td>\n",
              "      <td>year</td>\n",
              "      <td>NNS</td>\n",
              "      <td>years</td>\n",
              "      <td>O</td>\n",
              "    </tr>\n",
              "    <tr>\n",
              "      <th>23</th>\n",
              "      <td>.</td>\n",
              "      <td>.</td>\n",
              "      <td>.</td>\n",
              "      <td>.</td>\n",
              "      <td>.</td>\n",
              "      <td>O</td>\n",
              "    </tr>\n",
              "  </tbody>\n",
              "</table>\n",
              "</div>"
            ],
            "text/plain": [
              "       token     stem      lemma  pos spell_checked    ner\n",
              "0       John     john       John  NNP          John  B-PER\n",
              "1      Smith    smith      Smith  NNP         Smith  I-PER\n",
              "2      would    would      would   MD         would      O\n",
              "3       love     love       love   VB          love      O\n",
              "4         to       to         to   TO            to      O\n",
              "5      visit    visit      visit   VB         visit      O\n",
              "6       many     mani       many   JJ          many      O\n",
              "7   beautful   beauti  beautiful   JJ     beautiful      O\n",
              "8     cities     citi       city  NNS        cities      O\n",
              "9        and      and        and   CC           and      O\n",
              "10      take     take       take   VB          take      O\n",
              "11         a        a          a   DT             a      O\n",
              "12    pictre   pictur    picture   NN       picture      O\n",
              "13         .        .          .    .             .      O\n",
              "14        He       he         He  PRP            He      O\n",
              "15     lives     live       life  VBZ         lives      O\n",
              "16        in       in         in   IN            in      O\n",
              "17   Germany  germani    Germany  NNP       Germany  B-LOC\n",
              "18       for      for        for   IN           for      O\n",
              "19       the      the        the   DT           the      O\n",
              "20      last     last       last   JJ          last      O\n",
              "21        12       12         12   CD            12      O\n",
              "22     years     year       year  NNS         years      O\n",
              "23         .        .          .    .             .      O"
            ]
          },
          "metadata": {
            "tags": []
          },
          "execution_count": 10
        }
      ]
    },
    {
      "cell_type": "markdown",
      "metadata": {
        "id": "_EvYp_y6Tc2r"
      },
      "source": [
        "Lets print out the entire result"
      ]
    },
    {
      "cell_type": "code",
      "metadata": {
        "colab": {
          "base_uri": "https://localhost:8080/"
        },
        "id": "Dc277pk9Tc2s",
        "outputId": "ee373e14-2967-49eb-fff6-d2c6c3781dbb"
      },
      "source": [
        "import pprint \n",
        "pp = pprint.PrettyPrinter(indent=4)\n",
        "\n",
        "pp.pprint(result)"
      ],
      "execution_count": 11,
      "outputs": [
        {
          "output_type": "stream",
          "text": [
            "{   'checked': [   'John',\n",
            "                   'Smith',\n",
            "                   'would',\n",
            "                   'love',\n",
            "                   'to',\n",
            "                   'visit',\n",
            "                   'many',\n",
            "                   'beautiful',\n",
            "                   'cities',\n",
            "                   'and',\n",
            "                   'take',\n",
            "                   'a',\n",
            "                   'picture',\n",
            "                   '.',\n",
            "                   'He',\n",
            "                   'lives',\n",
            "                   'in',\n",
            "                   'Germany',\n",
            "                   'for',\n",
            "                   'the',\n",
            "                   'last',\n",
            "                   '12',\n",
            "                   'years',\n",
            "                   '.'],\n",
            "    'document': [   'John Smith would love to visit many beautful cities and '\n",
            "                    'take a pictre. He lives in Germany for the last 12 '\n",
            "                    'years.'],\n",
            "    'embeddings': [   'John',\n",
            "                      'Smith',\n",
            "                      'would',\n",
            "                      'love',\n",
            "                      'to',\n",
            "                      'visit',\n",
            "                      'many',\n",
            "                      'beautful',\n",
            "                      'cities',\n",
            "                      'and',\n",
            "                      'take',\n",
            "                      'a',\n",
            "                      'pictre',\n",
            "                      '.',\n",
            "                      'He',\n",
            "                      'lives',\n",
            "                      'in',\n",
            "                      'Germany',\n",
            "                      'for',\n",
            "                      'the',\n",
            "                      'last',\n",
            "                      '12',\n",
            "                      'years',\n",
            "                      '.'],\n",
            "    'entities': ['John Smith', 'Germany'],\n",
            "    'lemma': [   'John',\n",
            "                 'Smith',\n",
            "                 'would',\n",
            "                 'love',\n",
            "                 'to',\n",
            "                 'visit',\n",
            "                 'many',\n",
            "                 'beautiful',\n",
            "                 'city',\n",
            "                 'and',\n",
            "                 'take',\n",
            "                 'a',\n",
            "                 'picture',\n",
            "                 '.',\n",
            "                 'He',\n",
            "                 'life',\n",
            "                 'in',\n",
            "                 'Germany',\n",
            "                 'for',\n",
            "                 'the',\n",
            "                 'last',\n",
            "                 '12',\n",
            "                 'year',\n",
            "                 '.'],\n",
            "    'ner': [   'B-PER',\n",
            "               'I-PER',\n",
            "               'O',\n",
            "               'O',\n",
            "               'O',\n",
            "               'O',\n",
            "               'O',\n",
            "               'O',\n",
            "               'O',\n",
            "               'O',\n",
            "               'O',\n",
            "               'O',\n",
            "               'O',\n",
            "               'O',\n",
            "               'O',\n",
            "               'O',\n",
            "               'O',\n",
            "               'B-LOC',\n",
            "               'O',\n",
            "               'O',\n",
            "               'O',\n",
            "               'O',\n",
            "               'O',\n",
            "               'O'],\n",
            "    'pos': [   'NNP',\n",
            "               'NNP',\n",
            "               'MD',\n",
            "               'VB',\n",
            "               'TO',\n",
            "               'VB',\n",
            "               'JJ',\n",
            "               'JJ',\n",
            "               'NNS',\n",
            "               'CC',\n",
            "               'VB',\n",
            "               'DT',\n",
            "               'NN',\n",
            "               '.',\n",
            "               'PRP',\n",
            "               'VBZ',\n",
            "               'IN',\n",
            "               'NNP',\n",
            "               'IN',\n",
            "               'DT',\n",
            "               'JJ',\n",
            "               'CD',\n",
            "               'NNS',\n",
            "               '.'],\n",
            "    'sentence': [   'John Smith would love to visit many beautful cities and '\n",
            "                    'take a pictre.',\n",
            "                    'He lives in Germany for the last 12 years.'],\n",
            "    'stem': [   'john',\n",
            "                'smith',\n",
            "                'would',\n",
            "                'love',\n",
            "                'to',\n",
            "                'visit',\n",
            "                'mani',\n",
            "                'beauti',\n",
            "                'citi',\n",
            "                'and',\n",
            "                'take',\n",
            "                'a',\n",
            "                'pictur',\n",
            "                '.',\n",
            "                'he',\n",
            "                'live',\n",
            "                'in',\n",
            "                'germani',\n",
            "                'for',\n",
            "                'the',\n",
            "                'last',\n",
            "                '12',\n",
            "                'year',\n",
            "                '.'],\n",
            "    'token': [   'John',\n",
            "                 'Smith',\n",
            "                 'would',\n",
            "                 'love',\n",
            "                 'to',\n",
            "                 'visit',\n",
            "                 'many',\n",
            "                 'beautful',\n",
            "                 'cities',\n",
            "                 'and',\n",
            "                 'take',\n",
            "                 'a',\n",
            "                 'pictre',\n",
            "                 '.',\n",
            "                 'He',\n",
            "                 'lives',\n",
            "                 'in',\n",
            "                 'Germany',\n",
            "                 'for',\n",
            "                 'the',\n",
            "                 'last',\n",
            "                 '12',\n",
            "                 'years',\n",
            "                 '.']}\n"
          ],
          "name": "stdout"
        }
      ]
    },
    {
      "cell_type": "markdown",
      "metadata": {
        "id": "vy3_RyXBb4Dr"
      },
      "source": [
        "### Visualization with Spark NLP Display"
      ]
    },
    {
      "cell_type": "code",
      "metadata": {
        "id": "iUJkll8gamd-"
      },
      "source": [
        "detailed_result = pipeline.fullAnnotate(text)"
      ],
      "execution_count": 27,
      "outputs": []
    },
    {
      "cell_type": "code",
      "metadata": {
        "colab": {
          "base_uri": "https://localhost:8080/",
          "height": 88
        },
        "id": "DYArDa3LUvNA",
        "outputId": "557d761c-5061-4f3c-c793-f32552229970"
      },
      "source": [
        "from sparknlp_display import NerVisualizer\n",
        "\n",
        "ner_vis = NerVisualizer()\n",
        "\n",
        "## To set custom label colors:\n",
        "ner_vis.set_label_colors({'LOC':'#0096c7', 'PER':'#ade8f4'})\n",
        "\n",
        "ner_vis.display(detailed_result[0], 'entities', 'document')"
      ],
      "execution_count": 38,
      "outputs": [
        {
          "output_type": "display_data",
          "data": {
            "text/html": [
              "\n",
              "<style>\n",
              "    @import url('https://fonts.googleapis.com/css2?family=Montserrat:wght@300;400;500;600;700&display=swap');\n",
              "    @import url('https://fonts.googleapis.com/css2?family=Vistol Regular:wght@300;400;500;600;700&display=swap');\n",
              "    \n",
              "    .spark-nlp-display-scroll-entities {\n",
              "        border: 1px solid #E7EDF0;\n",
              "        border-radius: 3px;\n",
              "        text-align: justify;\n",
              "        \n",
              "    }\n",
              "    .spark-nlp-display-scroll-entities span {  \n",
              "        font-size: 14px;\n",
              "        line-height: 24px;\n",
              "        color: #536B76;\n",
              "        font-family: 'Montserrat', sans-serif !important;\n",
              "    }\n",
              "    \n",
              "    .spark-nlp-display-entity-wrapper{\n",
              "    \n",
              "        display: inline-grid;\n",
              "        text-align: center;\n",
              "        border-radius: 4px;\n",
              "        margin: 0 2px 5px 2px;\n",
              "        padding: 1px\n",
              "    }\n",
              "    .spark-nlp-display-entity-name{\n",
              "        font-size: 14px;\n",
              "        line-height: 24px;\n",
              "        font-family: 'Montserrat', sans-serif !important;\n",
              "        \n",
              "        background: #f1f2f3;\n",
              "        border-width: medium;\n",
              "        text-align: center;\n",
              "        \n",
              "        font-weight: 400;\n",
              "        \n",
              "        border-radius: 5px;\n",
              "        padding: 2px 5px;\n",
              "        display: block;\n",
              "        margin: 3px 2px;\n",
              "    \n",
              "    }\n",
              "    .spark-nlp-display-entity-type{\n",
              "        font-size: 14px;\n",
              "        line-height: 24px;\n",
              "        color: #ffffff;\n",
              "        font-family: 'Montserrat', sans-serif !important;\n",
              "        \n",
              "        text-transform: uppercase;\n",
              "        \n",
              "        font-weight: 500;\n",
              "\n",
              "        display: block;\n",
              "        padding: 3px 5px;\n",
              "    }\n",
              "    \n",
              "    .spark-nlp-display-entity-resolution{\n",
              "        font-size: 14px;\n",
              "        line-height: 24px;\n",
              "        color: #ffffff;\n",
              "        font-family: 'Vistol Regular', sans-serif !important;\n",
              "        \n",
              "        text-transform: uppercase;\n",
              "        \n",
              "        font-weight: 500;\n",
              "\n",
              "        display: block;\n",
              "        padding: 3px 5px;\n",
              "    }\n",
              "    \n",
              "    .spark-nlp-display-others{\n",
              "        font-size: 14px;\n",
              "        line-height: 24px;\n",
              "        font-family: 'Montserrat', sans-serif !important;\n",
              "        \n",
              "        font-weight: 400;\n",
              "    }\n",
              "\n",
              "</style>\n",
              " <span class=\"spark-nlp-display-entity-wrapper\" style=\"background-color: #ade8f4\"><span class=\"spark-nlp-display-entity-name\">John Smith </span><span class=\"spark-nlp-display-entity-type\">PER</span></span><span class=\"spark-nlp-display-others\" style=\"background-color: white\"> would love to visit many beautful cities and take a pictre. He lives in </span><span class=\"spark-nlp-display-entity-wrapper\" style=\"background-color: #0096c7\"><span class=\"spark-nlp-display-entity-name\">Germany </span><span class=\"spark-nlp-display-entity-type\">LOC</span></span><span class=\"spark-nlp-display-others\" style=\"background-color: white\"> for the last 12 years.</span></div>"
            ],
            "text/plain": [
              "<IPython.core.display.HTML object>"
            ]
          },
          "metadata": {
            "tags": []
          }
        }
      ]
    }
  ]
}